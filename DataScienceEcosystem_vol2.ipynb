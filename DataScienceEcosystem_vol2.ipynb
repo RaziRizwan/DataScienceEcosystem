{
 "cells": [
  {
   "cell_type": "markdown",
   "id": "3bcd4e8f-21c1-470a-9e8f-ee8fed162fd7",
   "metadata": {},
   "source": [
    "# Data Science Tools and Ecosystem"
   ]
  },
  {
   "cell_type": "markdown",
   "id": "7e16a4a9-e30e-487c-988e-413dc9a2b438",
   "metadata": {},
   "source": [
    "In this notebook, Data Science Tools and Ecosystem are summarized."
   ]
  },
  {
   "cell_type": "markdown",
   "id": "bc033839-8fca-4c30-a2f3-1903b61cdf12",
   "metadata": {},
   "source": [
    "Some of the popular languages that Data Scientists use are:\n",
    "1. Python\n",
    "2. R\n",
    "3. SQL\n",
    "4. Scala\n",
    "5. Java\n",
    "6. C++\n",
    "7. Julia\n",
    "8. JavaScript\n",
    "9. PHP\n",
    "10. Go\n",
    "11. Ruby\n",
    "12. Visual Basic"
   ]
  },
  {
   "cell_type": "markdown",
   "id": "3bed09bc-6201-411d-82f2-db681ed63368",
   "metadata": {},
   "source": [
    "Some of the commonly used libraries used by Data Scientists include:\n",
    "1. NumPy\n",
    "2. Pandas\n",
    "3. Matplotlib\n",
    "4. Scikit-learn\n",
    "5. TensorFlow\n",
    "6. Seaborn\n",
    "7. Keras\n",
    "8. PyTorch\n",
    "9. Apache Spark\n",
    "10. Vegas\n",
    "11. Big DL\n",
    "12. Ggplot2"
   ]
  },
  {
   "cell_type": "markdown",
   "id": "7d3028be-df0b-4306-a000-a9cae065b035",
   "metadata": {},
   "source": [
    "| Data Science Tools        |\n",
    "|---------------------------|\n",
    "| Jupyter Notebook          |\n",
    "| RStudio                   |\n",
    "| Apache Zeppelin           |\n",
    "| Anaconda                  |\n",
    "| Spyder                    |"
   ]
  },
  {
   "cell_type": "markdown",
   "id": "f5195363-2ea1-47d2-84db-5dab7d342135",
   "metadata": {},
   "source": [
    "### Below are a few examples of evaluating arithmetic expressions in Python."
   ]
  },
  {
   "cell_type": "code",
   "execution_count": 1,
   "id": "fb0987a1-43ed-437e-b926-e68dfa251b28",
   "metadata": {},
   "outputs": [
    {
     "data": {
      "text/plain": [
       "17"
      ]
     },
     "execution_count": 1,
     "metadata": {},
     "output_type": "execute_result"
    }
   ],
   "source": [
    "# This a simple arithmetic expression to multiply then add integers\n",
    "(3 * 4) + 5"
   ]
  },
  {
   "cell_type": "code",
   "execution_count": 2,
   "id": "5919d8cf-9435-490c-8b60-a1db2959d4a2",
   "metadata": {},
   "outputs": [
    {
     "name": "stdout",
     "output_type": "stream",
     "text": [
      "3 Hours and 20 Minutes\n"
     ]
    }
   ],
   "source": [
    "# This will convert 200 minutes to hours by dividing by 60\n",
    "def minutes_to_hours(minutes):\n",
    "    # Convert minutes to hours and remainder\n",
    "    hours = minutes // 60\n",
    "    rest_of_minutes = minutes % 60\n",
    "    return f\"{hours} Hours and {rest_of_minutes} Minutes\"\n",
    "\n",
    "# Test with the required 200 minutes\n",
    "print(minutes_to_hours(200))"
   ]
  },
  {
   "cell_type": "markdown",
   "id": "9e4a9009-17b9-4c25-a199-753c3d9e26da",
   "metadata": {},
   "source": [
    "**Objectives:**\n",
    "- List popular languages for Data Science\n",
    "- List commonly used libraries for Data Science\n",
    "- Provide examples of arithmetic operations in Python\n",
    "- Highlight tools used in Data Science"
   ]
  },
  {
   "cell_type": "markdown",
   "id": "086c6b9a-2678-4c53-9134-f32e5fe976ab",
   "metadata": {},
   "source": [
    "## Author(s)\n",
    "Muhammad Razi"
   ]
  }
 ],
 "metadata": {
  "kernelspec": {
   "display_name": "Python 3 (ipykernel)",
   "language": "python",
   "name": "python3"
  },
  "language_info": {
   "codemirror_mode": {
    "name": "ipython",
    "version": 3
   },
   "file_extension": ".py",
   "mimetype": "text/x-python",
   "name": "python",
   "nbconvert_exporter": "python",
   "pygments_lexer": "ipython3",
   "version": "3.12.5"
  }
 },
 "nbformat": 4,
 "nbformat_minor": 5
}
